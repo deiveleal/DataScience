{
 "cells": [
  {
   "cell_type": "markdown",
   "metadata": {
    "colab_type": "text",
    "id": "NWIKx7XbqO_8"
   },
   "source": [
    "![Codenation](https://forum.codenation.com.br/uploads/default/original/2X/2/2d2d2a9469f0171e7df2c4ee97f70c555e431e76.png)\n",
    "\n",
    "__Autor__: Kazuki Yokoyama (kazuki.yokoyama@ufrgs.br)"
   ]
  },
  {
   "cell_type": "markdown",
   "metadata": {
    "colab_type": "text",
    "id": "qdc6JWLJgoRT"
   },
   "source": [
    "# Distribuições de probabilidades\n",
    "\n",
    "![normal](https://upload.wikimedia.org/wikipedia/commons/thumb/7/74/Normal_Distribution_PDF.svg/1200px-Normal_Distribution_PDF.svg.png)\n",
    "\n",
    "Neste módulo falaremos sobre distribuições de probabilidade. A importância disso é fundamentar nossos conhecimentos para entendermos bem os conceitos mais avançados de machine learning, que frequentemente requisitam alguma base em probabilidade e estatística.\n",
    "\n",
    "Falaremos portanto de variáveis aleatórias, funções de probabilidade, distribuição binomial e normal e, por fim, de técnicas de amostragem. "
   ]
  },
  {
   "cell_type": "code",
   "execution_count": 3,
   "metadata": {
    "colab": {},
    "colab_type": "code",
    "id": "tQPKPpJWmtle"
   },
   "outputs": [],
   "source": [
    "from math import sqrt\n",
    "\n",
    "import pandas as pd\n",
    "import matplotlib.pyplot as plt\n",
    "import numpy as np\n",
    "import scipy.stats as sct\n",
    "import seaborn as sns"
   ]
  },
  {
   "cell_type": "code",
   "execution_count": 4,
   "metadata": {
    "colab": {},
    "colab_type": "code",
    "id": "KGbaEKGpod9Y"
   },
   "outputs": [],
   "source": [
    "# Algumas configurações para o matplotlib.\n",
    "%matplotlib inline\n",
    "\n",
    "from IPython.core.pylabtools import figsize\n",
    "\n",
    "\n",
    "figsize(12, 8)\n",
    "\n",
    "sns.set()"
   ]
  },
  {
   "cell_type": "markdown",
   "metadata": {
    "colab_type": "text",
    "id": "rDBbvE0Gj_T-"
   },
   "source": [
    "## Variáveis aleatórias\n",
    "\n",
    "Primeiro, vamos definir variável aleatório, que será nossa unidade mais básica de estudo enquanto falarmos de distribuições de probabilidade.\n",
    "\n",
    "Uma variável aleatória $X$ é uma função (ou mapa) entre um espaço amostral e os números reais:\n",
    "\n",
    "$$X(\\omega): \\Omega \\rightarrow \\mathbb{R}$$\n",
    "\n",
    "A necessidade de estabelecer esse conceito é facilitar trabalhar com valores aleatórios e resultados de experimentos aleatórios. O espaço amostral original, $\\Omega$, pode ser muito complexo para se trabalhar diretamente, e uma medida mais simples dos resultados dos experimentos nesse espaço muitas vezes é o suficiente. Essa medida resumo dos possíveis resultados dos experimentos é o que chamamos de variável aleatória (V.A).\n",
    "\n",
    "> A notação na literatura é identificar a variável aleatória (a função) por uma letra maiúscula, por exemplo $X$, e um possível valor para ela (um número real) por uma letra minúscula, $x$.\n",
    "\n",
    "Uma V.A é dita discreta se ela pode tomar valores contáveis $\\{x_{1}, x_{2}, \\dots\\}$. E é dita contínua se ela pode tomar valores reais."
   ]
  },
  {
   "cell_type": "markdown",
   "metadata": {
    "colab_type": "text",
    "id": "qxtXhjdQmPOl"
   },
   "source": [
    "__Exemplo 1__ (Retirado o Casella e Berger):\n",
    "\n",
    "Imaginem o cenário onde queremos fazer uma pesquisa de opinião com 50 pessoas. Se anotarmos 0 para respostas \"Não\" e 1 para \"Sim\", nosso espaço amostral - a combinação de todas as respostas - é $2^{50}$, um número muito grande. Deve haver portanto um jeito de sumarizar essa informação. E há.\n",
    "\n",
    "Como queremos saber apenas, por exemplo, a quantidade de pessoas que responderam \"Sim\", podemos representar essa informaçao com apenas um único escalar. Podemos definir nossa variável aleatória, $X$, como $X = \\text{número de respondentes `Sim`}$. Reparem que os possíveis valores para $X$ são $\\{0, 1, 2, 3, \\dots, 50\\}$, que é bem menor que $2^{50}$."
   ]
  },
  {
   "cell_type": "markdown",
   "metadata": {
    "colab_type": "text",
    "id": "vukJ6YFEvxDz"
   },
   "source": [
    "## Função de distribuição acumulada (CDF)\n",
    "\n",
    "Associada a cada V.A existe uma __função de distribuição acumulada__ (do inglês, _Cumulative Distribution Function_ - CDF) que é definida como:\n",
    "\n",
    "$$\\Phi(x) = F_{X}(x) = P(X \\leq x)$$\n",
    "\n",
    "ou seja, a $F_{X}(x)$ é a probabilidade de obtermos um valor menor ou igual a $x$ para determinada V.A $X$. A partir de agora o sobrescrito $X$ da CDF será omitido e a V.A relacionada será implícita pela variável da função.\n",
    "\n",
    "Algumas propriedades que decorrem dessa definição são:\n",
    "\n",
    "* $F(x)$ é sempre não decrescente: $x_{1} < x_{2} \\rightarrow F(x_{1}) < F(x_{2})$.\n",
    "* $F(x)$ tem domínio no suporte de $X$ e imagem em $[0, 1]$.\n",
    "\n",
    "Se uma V.A $X$ tem distribuição de probabilidade dada pela CDF $F$, então escrevemos $X \\sim F$."
   ]
  },
  {
   "cell_type": "markdown",
   "metadata": {
    "colab_type": "text",
    "id": "bHzqS8hwwCuU"
   },
   "source": [
    "## Função de probabilidade\n",
    "\n",
    "Associada a CDF exist uma função de probabilidade, $P(X=x)$, que nos diz a probabilidade da variável aleatória $X$ tomar um determinado valor $x$. Para uma função ser considerada uma função de probabilidade válida, ela deve satisfazer:\n",
    "\n",
    "1. Ela deve ser sempre um valor não negativo, para qualquer valor de $X$: $P(X) \\geq 0$.\n",
    "2. A soma de todas probabilidades, para todos valores possíveis de $X$, deve ser exatamente igual a 1: $P(\\Omega) = 1$.\n",
    "3. A probabilidade da união de todos eventos (disjuntos dois a dois) deve ser igual à soma das probabilidades desses eventos: $P(\\cup_{i}A_{i}) = \\sum_{i} P(A_{i})$, se $A_{1}, A_{2}, \\dots$ forem disjuntos dois a dois.\n",
    "\n",
    "Chamamos de suporte de $X$ o conjunto de todos possíveis valores que $X$ pode assumir.\n",
    "\n",
    "Se a V.A é discreta, então $f(x) = P(X=x)$ é chamada de __função massa de probabilidade__.\n",
    "\n",
    "$$F(x) = P(X \\leq x) = \\sum_{k \\leq x} f(k) = \\sum_{k \\leq x} P(X = k)$$\n",
    "\n",
    "Se a V.A é contínua, então $f(x)$ é chamada __função de densidade de probabilidade__ e vale a relação (se $f(x)$ é contínua, o que acontece na maioria dos casos)\n",
    "\n",
    "$$P(X \\leq x) = F(x) = \\int_{-\\infty}^x f(t) dt$$\n",
    "\n",
    "logo\n",
    "\n",
    "$$f(x) = \\frac{d}{dx}F(x)$$\n",
    "\n",
    "Note que, se $X$ é contínua, $P(X=x) = 0$ para qualquer valor de $x$ no suporte de $X$. Consequentemente se $X$ é contínua, $P(X \\leq x) = P(X < x)$."
   ]
  },
  {
   "cell_type": "markdown",
   "metadata": {
    "colab_type": "text",
    "id": "0LqlhhvgNJEn"
   },
   "source": [
    "A função densidade de probabilidade de uma V.A contínua não nos dá uma probabilidade em si, mas sim uma função cuja integral é uma probabilidade. Como em Cálculo I, a integral de uma função pode ser interpretada geometricamente como a área embaixo da curva dessa função, para determinado intervalo. Aqui no nosso caso, essa área é $F(x)$, enquanto a função é $f(x)$.\n",
    "\n",
    "Um importante teorema que decorre é o seguinte:\n",
    "\n",
    "$$P(a \\leq X \\leq b) = F(b) - F(a) = \\int_{a}^{b} f(t) dt$$"
   ]
  },
  {
   "cell_type": "markdown",
   "metadata": {
    "colab_type": "text",
    "id": "WCmQ5aIbO9Ik"
   },
   "source": [
    "Com isso, temos o básico de funções de probabilidade para prosseguirmos o estudo de distribuições."
   ]
  },
  {
   "cell_type": "markdown",
   "metadata": {
    "colab_type": "text",
    "id": "APAayg3SPIqO"
   },
   "source": [
    "## Distribuição normal\n",
    "\n",
    "A distribuição normal (ou Gaussiana) é uma das mais famosas e icônicas distribuições __contínuas__ da estatística. Sua fama não é à toa. A distribuição normal tem importância devido a, principalmente, três fatores:\n",
    "\n",
    "1. Seu tratamento analítico é muito fácil e já foi bastante explorado.\n",
    "2. Muitos fenômenos naturais são facilmente modelados como distribuições normais.\n",
    "3. Vários resultados importantes da estatística são dados em função da distribuição normal.\n",
    "\n",
    "A distribuição normal tem dois parâmetros, $\\mu$ e $\\sigma^{2}$, que são a média e a variância respectivamente. Denotamos uma V.A $X$ com distribuição normal de parâmetros $\\mu$ e $\\sigma^{2}$ por $X \\sim N(\\mu, \\sigma^{2})$.\n",
    "\n",
    "![normal](https://upload.wikimedia.org/wikipedia/commons/thumb/7/74/Normal_Distribution_PDF.svg/1200px-Normal_Distribution_PDF.svg.png)\n",
    "\n",
    "A função densidade de probabilidade da normal é dada pela fórmula:\n",
    "\n",
    "$$f(x) = \\frac{1}{\\sigma\\sqrt{2\\pi}}e^{(x-\\mu)^{2}/(2\\sigma^{2})}$$\n",
    "\n",
    "para todo $ -\\infty < x < \\infty$.\n",
    "\n",
    "É comum padronizarmos (_standardize_) a distribuição normal para que tenha média $\\mu = 0$ e variância $\\sigma^{2} = 1$. Para isso, subtraímos $\\mu$ de $X$ e dividimos pelo desvio padrão $\\sigma$, chamamos a nova V.A normal padronizada de $Z$:\n",
    "\n",
    "$$Z = \\frac{X - \\mu}{\\sigma}$$\n",
    "\n",
    "E especificamos a nova distribuição\n",
    "\n",
    "$$Z \\sim N(0, 1)$$\n",
    "\n",
    "A nova fdp tem a seguinte forma:\n",
    "\n",
    "$$f(z) = \\frac{1}{\\sqrt{2\\pi}}e^{z^{2}/2}$$\n",
    "\n",
    "A normal padronizada tem sua importância histórica, pois sem o auxílio computacional, identificar os quantis das distribuições era feito por tabelas, e é muito mais fácil ter somente uma tebela (para $\\mu = 0$ e $\\sigma = 1$) do que várias tabelas, uma para cada combinação de $\\mu$ e $\\sigma$ (o que seria infinito).\n",
    "\n",
    "Talvez já seja óbvio, mas para confirmar, se $X \\sim N(\\mu, \\sigma^{2})$:\n",
    "\n",
    "$$\\mathbb{E}[X] = \\mu$$\n",
    "\n",
    "e\n",
    "\n",
    "$$\\text{Var}[X] = \\sigma^{2}$$.\n",
    "\n",
    "A distribuição normal tem a clássica forma de sino, simétrica, como mostrado no exemplo abaixo:\n",
    "\n",
    "![normal](https://cdn-images-1.medium.com/max/1600/1*IZ2II2HYKeoMrdLU5jW6Dw.png)\n",
    "\n",
    "A figura acima ilustra alguns pontos interessantes:\n",
    "\n",
    "1. A função densidade de probabilidade, $f(x)$, é quem dá a forma de sino da distribuição.\n",
    "2. O eixo vertical (eixo dos y) é o valor da $f(x)$, e isso __não__ é uma probabilidade.\n",
    "3. O eixo horizontal (eixo dos x) é o valor de $x$, ou seja, o suporte da V.A de distribuição normal.\n",
    "4. A área embaixo da curva (por exemplo, a área verde ou azul ou vermelha da figura) são probabilidades. Por exemplo, a área vermelha indica a probabilidade de $X$ assumir valores entre $\\mu - \\sigma$ e $\\mu + \\sigma$, que é de 68.27%. Essa área é a CDF $F(x)$.\n",
    "5. A distribuição normal tem essas probabilidades conhecidas:\n",
    "  * A probabilidade de $X$ assumir valores entre $\\mu - \\sigma$ e $\\mu + \\sigma$ é de 68.27%.\n",
    "  * A probabilidade de $X$ assumir valores entre $\\mu - 2\\sigma$ e $\\mu + 2\\sigma$ é de 95.45%.\n",
    "  * A probabilidade de $X$ assumir valores entre $\\mu - 3\\sigma$ e $\\mu + 3\\sigma$ é de 99.73%.\n",
    "  \n",
    "6. Isso ilustra um outro ponto: a maior parte dos valores que $X$ assume numa distribuição normal se concentra em torno da média, e vai ficando cada vez mais difícil de assumir valores no sentido das caudas.\n",
    "\n",
    "A respeito do que dissemos acima sobre o valor da $f(x)$, note que ela assume valor identicamente zero em qualquer ponto em particular ($f(x) = 0, \\forall x$). Por exemplo, $f(\\mu) = f(\\mu + \\sigma) = 0$."
   ]
  },
  {
   "cell_type": "markdown",
   "metadata": {
    "colab_type": "text",
    "id": "4p_IITAimeLk"
   },
   "source": [
    "O SciPy e o NumPy possuem funções para lidar com a distribuição normal. Por exemplo, podemos gerar 1000 valores normais de média 10 e variância 9 com:"
   ]
  },
  {
   "cell_type": "code",
   "execution_count": 8,
   "metadata": {
    "colab": {
     "base_uri": "https://localhost:8080/",
     "height": 491
    },
    "colab_type": "code",
    "id": "doYjLQBmmnGS",
    "outputId": "3c9a03bf-0ca3-46fd-8c8f-f8ef10ccc7b8"
   },
   "outputs": [
    {
     "data": {
      "image/png": "[encoded data removed]",
      "text/plain": [
       "<Figure size 864x576 with 1 Axes>"
      ]
     },
     "metadata": {},
     "output_type": "display_data"
    }
   ],
   "source": [
    "norm = sct.norm.rvs(loc=10, scale=3, size=1000) # loc é a média, scale é o desvio padrão. X ~ N(10, 9).\n",
    "\n",
    "sns.distplot(norm);"
   ]
  },
  {
   "cell_type": "markdown",
   "metadata": {
    "colab_type": "text",
    "id": "R0mNPVtwpjkE"
   },
   "source": [
    "Note que, apesar de termos criado a amostra a partir de uma distribuição com média exatamente zero e variância exatamente 9 (populacional), a amostra que geramos possui média amostral e variância amostral ligeiramente diferente de 0 e 9:"
   ]
  },
  {
   "cell_type": "code",
   "execution_count": 6,
   "metadata": {
    "colab": {
     "base_uri": "https://localhost:8080/",
     "height": 34
    },
    "colab_type": "code",
    "id": "ZV6PbgU2qbqS",
    "outputId": "0bd45468-5a54-488a-c5b8-f918cc35ca9b"
   },
   "outputs": [
    {
     "data": {
      "text/plain": [
       "(10.107251179301395, 8.885998887006833, 2.9809392625491102)"
      ]
     },
     "execution_count": 6,
     "metadata": {},
     "output_type": "execute_result"
    }
   ],
   "source": [
    "(norm.mean(), norm.var(), norm.std())"
   ]
  },
  {
   "cell_type": "markdown",
   "metadata": {
    "colab_type": "text",
    "id": "vcIABQ3wqyPs"
   },
   "source": [
    "Podemos encontrar $P(X \\leq 8)$ com a função `cdf()`:"
   ]
  },
  {
   "cell_type": "code",
   "execution_count": 0,
   "metadata": {
    "colab": {
     "base_uri": "https://localhost:8080/",
     "height": 34
    },
    "colab_type": "code",
    "id": "1sKSgWTzpf6y",
    "outputId": "b82f489c-fbcb-48c8-8520-afecb35044bd"
   },
   "outputs": [
    {
     "data": {
      "text/plain": [
       "0.2524925375469229"
      ]
     },
     "execution_count": 5,
     "metadata": {
      "tags": []
     },
     "output_type": "execute_result"
    }
   ],
   "source": [
    "sct.norm.cdf(8, loc=10, scale=3)"
   ]
  },
  {
   "cell_type": "markdown",
   "metadata": {
    "colab_type": "text",
    "id": "PojupbPYrSXp"
   },
   "source": [
    "Obviamente, como a distribuição é normal é simétrica em torno da média $\\mu$, a probabilidade de $X$ assumir um valor menor ou igual à média deve ser 0.5 (50%), ou seja, $P(X \\leq \\mu) = 0.5$:"
   ]
  },
  {
   "cell_type": "code",
   "execution_count": 0,
   "metadata": {
    "colab": {
     "base_uri": "https://localhost:8080/",
     "height": 34
    },
    "colab_type": "code",
    "id": "FUa1SyTjrern",
    "outputId": "83e5d6de-97a4-411a-d678-b088ac61dca4"
   },
   "outputs": [
    {
     "data": {
      "text/plain": [
       "0.5"
      ]
     },
     "execution_count": 6,
     "metadata": {
      "tags": []
     },
     "output_type": "execute_result"
    }
   ],
   "source": [
    "sct.norm.cdf(10, loc=10, scale=3)"
   ]
  },
  {
   "cell_type": "markdown",
   "metadata": {
    "colab_type": "text",
    "id": "0YWK5acJ7xx4"
   },
   "source": [
    "Podemos utilizar a função `cdf()` em conjunto com a função `linspace()` do NumPy para gerar um gráfico da CDF:"
   ]
  },
  {
   "cell_type": "code",
   "execution_count": 9,
   "metadata": {
    "colab": {
     "base_uri": "https://localhost:8080/",
     "height": 491
    },
    "colab_type": "code",
    "id": "j8BrJeJS77WL",
    "outputId": "30c3d5ad-6da1-4ef8-e087-4f52ee33df1b"
   },
   "outputs": [
    {
     "data": {
      "image/png": "[encoded data removed]",
      "text/plain": [
       "<Figure size 864x576 with 1 Axes>"
      ]
     },
     "metadata": {},
     "output_type": "display_data"
    }
   ],
   "source": [
    "x = np.linspace(0, 20, num=1000)\n",
    "\n",
    "f = lambda x: sct.norm.cdf(x, loc=10, scale=3)\n",
    "\n",
    "cdf = f(x)\n",
    "\n",
    "sns.lineplot(x, cdf);"
   ]
  },
  {
   "cell_type": "markdown",
   "metadata": {
    "colab_type": "text",
    "id": "Cp-feI5FrqLR"
   },
   "source": [
    "Às vezes, estamos interessados no complemento da CDF, ou seja, na probabilidade a partir da outra ponta da distribuição. Para isso, usamos a função `sf()`. Por exemplo, utilizamos essa função para achar $P(X \\geq 8)$:"
   ]
  },
  {
   "cell_type": "code",
   "execution_count": 0,
   "metadata": {
    "colab": {
     "base_uri": "https://localhost:8080/",
     "height": 34
    },
    "colab_type": "code",
    "id": "hTLzoqU4r5Mv",
    "outputId": "c73802f2-db6e-4ab1-f0fa-332c1fc921a1"
   },
   "outputs": [
    {
     "data": {
      "text/plain": [
       "0.7475074624530771"
      ]
     },
     "execution_count": 8,
     "metadata": {
      "tags": []
     },
     "output_type": "execute_result"
    }
   ],
   "source": [
    "sct.norm.sf(8, loc=10, scale=3)"
   ]
  },
  {
   "cell_type": "markdown",
   "metadata": {
    "colab_type": "text",
    "id": "7RIuPalxr_ao"
   },
   "source": [
    "Note como esse valor é o complemento da probabilidade encontrado acima com a CDF."
   ]
  },
  {
   "cell_type": "markdown",
   "metadata": {
    "colab_type": "text",
    "id": "fn1ozFgFsQtd"
   },
   "source": [
    "Também pode ser útil encontrar o quantil para determinada probabilidade (acumulada a partir da cauda à esquerda). Por exemplo, podemos nos perguntar qual o valor de $X$ que acumula 25% da probabilidade, ou seja, qual valor de $x$ tal que $P(X \\leq x) = 0.25$? Respondemos esse tipo de pergunta com a função `ppf()`:"
   ]
  },
  {
   "cell_type": "code",
   "execution_count": 0,
   "metadata": {
    "colab": {
     "base_uri": "https://localhost:8080/",
     "height": 34
    },
    "colab_type": "code",
    "id": "vylIe5tNsq0U",
    "outputId": "a9cf637a-ff23-48b8-85a0-4f1611cde765"
   },
   "outputs": [
    {
     "data": {
      "text/plain": [
       "7.976530749411754"
      ]
     },
     "execution_count": 9,
     "metadata": {
      "tags": []
     },
     "output_type": "execute_result"
    }
   ],
   "source": [
    "sct.norm.ppf(0.25, loc=10, scale=3)"
   ]
  },
  {
   "cell_type": "markdown",
   "metadata": {
    "colab_type": "text",
    "id": "W1tIhFB5s4dY"
   },
   "source": [
    "Se quiséssemos o saber o quantil para a probabilidade acumulada a partir da cauda à direita, usaríamos a função `isf()`. Por exemplo, se quisermos encontrar $x$ tal que $P(X \\geq x) = 0.25$:"
   ]
  },
  {
   "cell_type": "code",
   "execution_count": 0,
   "metadata": {
    "colab": {
     "base_uri": "https://localhost:8080/",
     "height": 34
    },
    "colab_type": "code",
    "id": "vzbzB_FatEtf",
    "outputId": "d410bf11-1fab-4d1d-cdbb-cec884be1752"
   },
   "outputs": [
    {
     "data": {
      "text/plain": [
       "12.023469250588246"
      ]
     },
     "execution_count": 10,
     "metadata": {
      "tags": []
     },
     "output_type": "execute_result"
    }
   ],
   "source": [
    "sct.norm.isf(0.25, loc=10, scale=3)"
   ]
  },
  {
   "cell_type": "markdown",
   "metadata": {
    "colab_type": "text",
    "id": "seNQsrS_tawL"
   },
   "source": [
    "Por fim, podemos querer saber o valor da função densidade de probabilidade, $f(x)$, em determinado ponto. Apesar de não ser tão útil normalmente (por __não__ ser representar uma probabilidade), ela pode ter seus usos. Para isso, utilizamos a função `pdf()`. Para acharmos $f(8)$:"
   ]
  },
  {
   "cell_type": "code",
   "execution_count": 0,
   "metadata": {
    "colab": {
     "base_uri": "https://localhost:8080/",
     "height": 34
    },
    "colab_type": "code",
    "id": "4xyCVe_9twav",
    "outputId": "d461891d-1549-479e-ef0a-9bcb7aa6d8e1"
   },
   "outputs": [
    {
     "data": {
      "text/plain": [
       "0.10648266850745075"
      ]
     },
     "execution_count": 11,
     "metadata": {
      "tags": []
     },
     "output_type": "execute_result"
    }
   ],
   "source": [
    "sct.norm.pdf(8, loc=10, scale=3)"
   ]
  },
  {
   "cell_type": "markdown",
   "metadata": {
    "colab_type": "text",
    "id": "YEbnaH1at3ck"
   },
   "source": [
    "Na distribuição normal, a função $f(x)$ assume seu valor máximo na média:"
   ]
  },
  {
   "cell_type": "code",
   "execution_count": 0,
   "metadata": {
    "colab": {
     "base_uri": "https://localhost:8080/",
     "height": 34
    },
    "colab_type": "code",
    "id": "4Xx9uZKVuJOT",
    "outputId": "2119c4a8-e249-4c85-c3c0-408db1572cbc"
   },
   "outputs": [
    {
     "data": {
      "text/plain": [
       "0.1329807601338109"
      ]
     },
     "execution_count": 12,
     "metadata": {
      "tags": []
     },
     "output_type": "execute_result"
    }
   ],
   "source": [
    "sct.norm.pdf(10, loc=10, scale=3)"
   ]
  },
  {
   "cell_type": "markdown",
   "metadata": {
    "colab_type": "text",
    "id": "rmZJEWU9-ACU"
   },
   "source": [
    "Como fizemos com a CDF, podemos utilizar a função `linspace()` para gerar o gráfico da pdf:"
   ]
  },
  {
   "cell_type": "code",
   "execution_count": 0,
   "metadata": {
    "colab": {
     "base_uri": "https://localhost:8080/",
     "height": 491
    },
    "colab_type": "code",
    "id": "aSpOi5Z5-JuK",
    "outputId": "71fbaa16-0d15-477d-a94e-f04b0a05d4e8"
   },
   "outputs": [
    {
     "data": {
      "image/png": "[encoded data removed]",
      "text/plain": [
       "<Figure size 864x576 with 1 Axes>"
      ]
     },
     "metadata": {
      "tags": []
     },
     "output_type": "display_data"
    }
   ],
   "source": [
    "x = np.linspace(0, 20, num=1000)\n",
    "\n",
    "f = lambda x: sct.norm.pdf(x, loc=10, scale=3)\n",
    "\n",
    "pdf = f(x)\n",
    "\n",
    "sns.lineplot(x, pdf);"
   ]
  },
  {
   "cell_type": "markdown",
   "metadata": {
    "colab_type": "text",
    "id": "Hce_oq73uR_D"
   },
   "source": [
    "Agora que estamos mais familiarizados com a distribuição normal, veremos a distribuição binomial."
   ]
  },
  {
   "cell_type": "markdown",
   "metadata": {
    "colab_type": "text",
    "id": "HwR0grnbabtf"
   },
   "source": [
    "## Distribuição binomial\n",
    "\n",
    "Agora focaremos em uma distribuição discreta: a distribuição binomial. A distribuição binomial tem grande relação com a distribuição de Bernoulli, então a apresentaremos brevemente antes.\n",
    "\n",
    "A distribuição de Bernoulli é uma das mais simples distribuições discretas com apenas um parâmetro, $p$. Ela nos informa sobre a distribuição de uma V.A que toma valor 1 com probabilidade $p$ e valor 0 com probabilidade $q = 1-p$. Portanto, sua função de massa de probabilidade pode ser escrita como:\n",
    "\n",
    "$$f(x) = p^{x} (1-p)^{1-x}$$\n",
    "\n",
    "para $x \\in \\{0, 1\\}$. Se $X$ tem distribuição de Bernoulli, denotamos por $X \\sim \\text{Bernoulli}(p)$.\n",
    "\n",
    "Note que,se $p = 0.5$, temos basicamente a distribuição do lançar de uma única moeda não viciada."
   ]
  },
  {
   "cell_type": "markdown",
   "metadata": {
    "colab_type": "text",
    "id": "hqHf3qU8ccCa"
   },
   "source": [
    "A distribuição binomial, por sua vez, nos diz sobre a distribuição de uma V.A que é a quantidade de resultados 1 (sucessos) de uma sequência de $n$ lançamentos __independentes__ de uma moeda que tem probabilidade $p$ de sair 1 (por exemplo, cara) e probabilidade $q = 1 - p$ de sair 0 (por exemplo, coroa). Note que cada um dos $n$ lançamentos pode ser modelado individualmente por uma distribuição de Bernoulli.\n",
    "\n",
    "Essa distribuição tem dois parâmetros: $n \\in \\mathbb{N}$ é a quantidade de lançamentos e $p \\in [0, 1]$ é a probabilidade de $X$ assumir 1 (ou ter um sucesso). Se X tem distribuição binomial de parâmetros $n$ e $p$, denotamos por $X \\sim \\text{Bin}(n, p)$.\n",
    "\n",
    "A função massa de probabilidade da distribuição binomial é dada por:\n",
    "\n",
    "$$f(k) = P(X = k) = C(n, k) p^{k} (1 - p)^{n - k}$$\n",
    "\n",
    "onde $k$ é a quantidade de sucessos nos $n$ experimentos. Obviamente $k \\in \\{0, 1, 2, \\dots, n\\}$.\n",
    "\n",
    "Note que $P(X = k)$ não é mais necessariamente igual a zero, como era com a distribuição normal. A diferença agora é que a binomial é __discreta__, enquanto a normal é __contínua__.\n",
    "\n",
    "Definimos também a função de distribuição acumulada (CDF), $F(k)$ como\n",
    "\n",
    "$$F(k) = P(X \\leq k) = P(X = 0) + P(X = 1) + \\dots + P(X = k) = \\sum_{i=0}^{k} C(n, i) p^{i} (1 - p)^{n - i}$$\n",
    "\n",
    "O valor esperado de $X \\sim \\text{Bin}(n, p)$ é\n",
    "\n",
    "$$\\mathbb{E}[X] = np$$\n",
    "\n",
    "e sua variância é\n",
    "\n",
    "$$\\text{Var}[X] = np(1 - p) = npq$$\n",
    "\n",
    "onde $q = 1 - p$."
   ]
  },
  {
   "cell_type": "markdown",
   "metadata": {
    "colab_type": "text",
    "id": "lGz9zdrseWIr"
   },
   "source": [
    "Vamos explorar a distribuição binomial visualmente um pouco. No experimento abaixo"
   ]
  },
  {
   "cell_type": "code",
   "execution_count": 0,
   "metadata": {
    "colab": {
     "base_uri": "https://localhost:8080/",
     "height": 491
    },
    "colab_type": "code",
    "id": "7JevNFNWebM-",
    "outputId": "af64c018-8738-4579-8550-869a64516025"
   },
   "outputs": [
    {
     "data": {
      "image/png": "[encoded data removed]",
      "text/plain": [
       "<Figure size 864x576 with 1 Axes>"
      ]
     },
     "metadata": {
      "tags": []
     },
     "output_type": "display_data"
    }
   ],
   "source": [
    "binom_20_05 = sct.binom.rvs(20, 0.5, size=100000) # Média 10, variância 5.\n",
    "binom_20_07 = sct.binom.rvs(20, 0.7, size=100000) # Média 14, variância 4.2.\n",
    "\n",
    "sns.distplot(binom_20_05, bins=range(4, 18), kde=False, hist_kws={\"alpha\": 0.9});\n",
    "sns.distplot(binom_20_07, bins=range(8, 22), kde=False, hist_kws={\"alpha\": 0.5});"
   ]
  },
  {
   "cell_type": "markdown",
   "metadata": {
    "colab_type": "text",
    "id": "d0-n2sw4jMtP"
   },
   "source": [
    "A maior parte das funções disponíveis para a distribuição normal que apresentamos também está disponível para a distribuição binomial:\n",
    "\n",
    "* `mean()`: $\\mathbb{E}[X]$\n",
    "* `var()`: $\\text{Var}[X]$\n",
    "* `rvs()`: $\\vec{X}$\n",
    "* `cdf()`: $P(X \\leq x)$\n",
    "* `sf()`: $P(X > x)$\n",
    "* `ppf()`: $x$ tal que $P(X \\leq x) = p$\n",
    "* `isf()`: $x$ tal que $P(X > x) = p$\n",
    "\n",
    "A única mudança significativa é na função `pmf()` ($P(X = x)$), que na normal era chamada `pdf()` ($f(x)$).\n",
    "\n",
    "Vejamos alguns exemplos para reforçar."
   ]
  },
  {
   "cell_type": "markdown",
   "metadata": {
    "colab_type": "text",
    "id": "7ofQDrIKj8Pm"
   },
   "source": [
    "__Exemplo 2__: Qual a probabilidade de obtermos no máximo 3 caras (sucessos) em 20 lançamentos de uma moeda viciada, que tem probabilidade $0.10$ de sair cara?\n",
    "\n",
    "Resposta:\n",
    "\n",
    "O que buscamos é\n",
    "\n",
    "$$P(X \\leq 3) = \\sum_{i=0}^{3} C(20, i) (0.10)^{i} (0.9)^{20 - i}$$"
   ]
  },
  {
   "cell_type": "markdown",
   "metadata": {
    "colab_type": "text",
    "id": "nqQCIjhRoRT_"
   },
   "source": [
    "Uma das formas de resolver isso com SciPy é somar a $f(i)$ para $i \\in \\{0, 1, 2, 3\\}$, usando a função `pmf()`:"
   ]
  },
  {
   "cell_type": "code",
   "execution_count": 5,
   "metadata": {
    "colab": {
     "base_uri": "https://localhost:8080/",
     "height": 34
    },
    "colab_type": "code",
    "id": "5RjgZZdrno8V",
    "outputId": "b40311ae-e060-4f45-9239-446f20f32db4"
   },
   "outputs": [
    {
     "data": {
      "text/plain": [
       "0.8670466765656644"
      ]
     },
     "execution_count": 5,
     "metadata": {},
     "output_type": "execute_result"
    }
   ],
   "source": [
    "sum((sct.binom.pmf(i, 20, 0.10) for i in range(4))) # Realiza exatamente o somatório mostrado acima."
   ]
  },
  {
   "cell_type": "markdown",
   "metadata": {
    "colab_type": "text",
    "id": "cRMlOJKgoiDC"
   },
   "source": [
    "Outra forma é utilizar direto a CDF através da função `cdf()`:"
   ]
  },
  {
   "cell_type": "code",
   "execution_count": 0,
   "metadata": {
    "colab": {
     "base_uri": "https://localhost:8080/",
     "height": 34
    },
    "colab_type": "code",
    "id": "lkflvEBOodnX",
    "outputId": "06e0fe2b-3780-4ec9-9e08-949e7f4a80b4"
   },
   "outputs": [
    {
     "data": {
      "text/plain": [
       "0.867046676565665"
      ]
     },
     "execution_count": 16,
     "metadata": {
      "tags": []
     },
     "output_type": "execute_result"
    }
   ],
   "source": [
    "sct.binom.cdf(3, 20, 0.10)"
   ]
  },
  {
   "cell_type": "markdown",
   "metadata": {
    "colab_type": "text",
    "id": "7BnQT2coo3_r"
   },
   "source": [
    "__Exemplo 3__: Qual a probabilidade de obtermos pelo menos 10 sucessos em 20 lançamentos da mesma moeda viciada acima?\n",
    "\n",
    "Resposta:\n",
    "\n",
    "O que queremos agora é\n",
    "\n",
    "$$P(X \\geq 10) = P(X > 9) = 1 - P(X < 10) = 1 - P(X \\leq 9) = 1 - \\sum_{i=0}^{9} C(20,i) (0.10)^{i} (0.9)^{20 - i}$$"
   ]
  },
  {
   "cell_type": "markdown",
   "metadata": {
    "colab_type": "text",
    "id": "Z9G8DFD_pZQr"
   },
   "source": [
    "De novo, podemos utilizar a função `pmf()`:"
   ]
  },
  {
   "cell_type": "code",
   "execution_count": 0,
   "metadata": {
    "colab": {
     "base_uri": "https://localhost:8080/",
     "height": 34
    },
    "colab_type": "code",
    "id": "sTk7bJLNphE8",
    "outputId": "f043335c-033e-48ff-c613-5e7c1b0fd779"
   },
   "outputs": [
    {
     "data": {
      "text/plain": [
       "7.150904021813176e-06"
      ]
     },
     "execution_count": 17,
     "metadata": {
      "tags": []
     },
     "output_type": "execute_result"
    }
   ],
   "source": [
    "1 - sum((sct.binom.pmf(i, 20, 0.10) for i in range(10))) # Realiza exatamente o somatório mostrado acima."
   ]
  },
  {
   "cell_type": "markdown",
   "metadata": {
    "colab_type": "text",
    "id": "C_IZw3rWptYG"
   },
   "source": [
    "Ou usar a função `cdf()`:"
   ]
  },
  {
   "cell_type": "code",
   "execution_count": 0,
   "metadata": {
    "colab": {
     "base_uri": "https://localhost:8080/",
     "height": 34
    },
    "colab_type": "code",
    "id": "YZjNL7dwpvtB",
    "outputId": "4a08c67c-bdb1-48eb-b98c-f7c7296cc2ec"
   },
   "outputs": [
    {
     "data": {
      "text/plain": [
       "7.15090402103602e-06"
      ]
     },
     "execution_count": 18,
     "metadata": {
      "tags": []
     },
     "output_type": "execute_result"
    }
   ],
   "source": [
    "1 - sct.binom.cdf(9, 20, 0.10)"
   ]
  },
  {
   "cell_type": "markdown",
   "metadata": {
    "colab_type": "text",
    "id": "3AFN0VYFpzQ9"
   },
   "source": [
    "Ou utilizarmos a função `sf()`, que nos dá a probabilidade a partir da cauda à direita, e elimina a necessidade de subtrair o resultado de 1:"
   ]
  },
  {
   "cell_type": "code",
   "execution_count": 0,
   "metadata": {
    "colab": {
     "base_uri": "https://localhost:8080/",
     "height": 34
    },
    "colab_type": "code",
    "id": "iRnfff-XqE_g",
    "outputId": "1f66b27d-e1ae-478e-b1f6-88804dddc0d3"
   },
   "outputs": [
    {
     "data": {
      "text/plain": [
       "7.150904021083785e-06"
      ]
     },
     "execution_count": 19,
     "metadata": {
      "tags": []
     },
     "output_type": "execute_result"
    }
   ],
   "source": [
    "sct.binom.sf(9, 20, 0.10)"
   ]
  },
  {
   "cell_type": "markdown",
   "metadata": {
    "colab_type": "text",
    "id": "KlzqM2voqTtT"
   },
   "source": [
    "Note que a função `sf(k)` calcula $P(X > k)$ e __não__ $P(X \\geq k)$."
   ]
  },
  {
   "cell_type": "markdown",
   "metadata": {
    "colab_type": "text",
    "id": "vLejdCSZqsZ5"
   },
   "source": [
    "Agora vamos falar da relação entre a distribuição binomial e a normal.\n",
    "\n",
    "Você deve concordar que fazer o cálculo da CDF da binomial através de somatórios não é a coisa mais divertida, nem computacionalmente mais eficiente. **Acontece que a binomial pode ser aproximada pela normal, se estivermos falando de valores grandes de** $n$. É de acordo que $n \\geq 20$ deve servir, e de preferência que $p$ não esteja nem muito próximo de 0 nem de 1.\n",
    "\n",
    "Nesse cenário, podemos utilizar a distribuição normal como uma boa aproximação para a distribuição binomial, o que significa que todas as funções que mostramos para a função normal podem ser utilizadas para resolver problemas envolvendo a distribuição binomial.\n",
    "\n",
    "A relação mais especificamente é a seguinte, se $X \\sim \\text{Bin}(n, p)$, então podemos aproximar resultados sobre $X$ utilizando a seguinte distribuição normal:\n",
    "\n",
    "$$N(np, np(1 - p))$$\n",
    "\n",
    "Note como $\\mu = np$ e $\\sigma^{2} = np(1 - p)$ são exatamente iguais à média e variância da distribuição binomial, respectivamente.\n",
    "\n",
    "Vejamos alguns exemplos."
   ]
  },
  {
   "cell_type": "markdown",
   "metadata": {
    "colab_type": "text",
    "id": "HhQ_fpp8s2-l"
   },
   "source": [
    "__Exemplo 4__: Qual a probabilidade de obtermos pelo menos 50 sucessos em 200 lançamentos de uma moeda viciada que tem probabilidade de sucesso igual a $0.3$?\n",
    "\n",
    "Resposta:\n",
    "\n",
    "Dispondo somente da distribuição binomial como fizemos até agora, deveríamos calcular:\n",
    "\n",
    "$$P(X \\geq 50) = 1 - P(X < 50) = 1 - P(X \\leq 49) = 1 - \\sum_{i=0}^{49} C(200,i) (0.3)^{i} (0.7)^{200 - i}$$"
   ]
  },
  {
   "cell_type": "markdown",
   "metadata": {
    "colab_type": "text",
    "id": "w8ApQhhIuWyn"
   },
   "source": [
    "O que em um computador moderno não deve ser grandes problemas:"
   ]
  },
  {
   "cell_type": "code",
   "execution_count": 0,
   "metadata": {
    "colab": {
     "base_uri": "https://localhost:8080/",
     "height": 34
    },
    "colab_type": "code",
    "id": "BAto7xf2uZtV",
    "outputId": "a7b4bc31-8915-4a92-f0ac-241b9ab0af47"
   },
   "outputs": [
    {
     "data": {
      "text/plain": [
       "0.9494082059701139"
      ]
     },
     "execution_count": 20,
     "metadata": {
      "tags": []
     },
     "output_type": "execute_result"
    }
   ],
   "source": [
    "1 - sct.binom.cdf(49, 200, 0.3) # X ~ Bin(200, 0.3)."
   ]
  },
  {
   "cell_type": "markdown",
   "metadata": {
    "colab_type": "text",
    "id": "nocIGszZutVj"
   },
   "source": [
    "Porém, como $n = 200$ e $p = 0.3$ (nem tão perto de 0, nem de 1), então podemos utilizar a distribuição normal para aproximar esse valor:"
   ]
  },
  {
   "cell_type": "code",
   "execution_count": 0,
   "metadata": {
    "colab": {
     "base_uri": "https://localhost:8080/",
     "height": 34
    },
    "colab_type": "code",
    "id": "Ug1ilUWju5Nf",
    "outputId": "ddbaf14c-7a35-48d2-e6d6-b4af59c20596"
   },
   "outputs": [
    {
     "data": {
      "text/plain": [
       "0.9385886759493037"
      ]
     },
     "execution_count": 21,
     "metadata": {
      "tags": []
     },
     "output_type": "execute_result"
    }
   ],
   "source": [
    "1 - sct.norm.cdf(50, 60, sqrt(42)) # Y ~ N(60, 42)."
   ]
  },
  {
   "cell_type": "markdown",
   "metadata": {
    "colab_type": "text",
    "id": "Bb5hhuk7vwum"
   },
   "source": [
    "Ou ainda, utilizar a normal padronizada $\\left(Z = \\frac{(Y-\\mu)}{\\sigma} \\sim N(0, 1)\\right)$:"
   ]
  },
  {
   "cell_type": "code",
   "execution_count": 0,
   "metadata": {
    "colab": {
     "base_uri": "https://localhost:8080/",
     "height": 34
    },
    "colab_type": "code",
    "id": "XvsOKnbTwK37",
    "outputId": "794e671d-35cb-47fe-f269-04a77b77fa2f"
   },
   "outputs": [
    {
     "data": {
      "text/plain": [
       "0.9385886759493037"
      ]
     },
     "execution_count": 22,
     "metadata": {
      "tags": []
     },
     "output_type": "execute_result"
    }
   ],
   "source": [
    "1 - sct.norm.cdf((50 - 60)/sqrt(42), 0, 1) # Z ~ N(0, 1)."
   ]
  },
  {
   "cell_type": "markdown",
   "metadata": {
    "colab_type": "text",
    "id": "aKyohZ0qySxN"
   },
   "source": [
    "É recomendado introduzir também um fator de correção de continuidade nessa aproximação. Para isso, simplesmente calculamos $Y$ (a V.A normalmente distribuída) diminuída de 0.5, ou seja:\n",
    "\n",
    "$$P(X \\geq 50) \\approx P(Y \\geq 49.5)$$"
   ]
  },
  {
   "cell_type": "code",
   "execution_count": 0,
   "metadata": {
    "colab": {
     "base_uri": "https://localhost:8080/",
     "height": 34
    },
    "colab_type": "code",
    "id": "9Y1PB2E2yxBT",
    "outputId": "e5f253b4-8dec-4c14-8c56-2bb01e6a25ee"
   },
   "outputs": [
    {
     "data": {
      "text/plain": [
       "0.9474037474399793"
      ]
     },
     "execution_count": 23,
     "metadata": {
      "tags": []
     },
     "output_type": "execute_result"
    }
   ],
   "source": [
    "1 - sct.norm.cdf(49.5, 60, sqrt(42)) # Y ~ N(60, 42)."
   ]
  },
  {
   "cell_type": "markdown",
   "metadata": {
    "colab_type": "text",
    "id": "E6owPf7izJt5"
   },
   "source": [
    "Que é bem mais próximo do real valor encontrado utilizando a exata distribuição binomial mais acima.\n",
    "\n",
    "Se quiséssemos $P(X \\leq 50)$, então aproximaríamos como:\n",
    "\n",
    "$$P(X \\leq 50) \\approx P(Y \\leq 50.5)$$\n",
    "\n",
    "ou seja, adicionando 0.5 à variável normalmente distribuída."
   ]
  },
  {
   "cell_type": "markdown",
   "metadata": {
    "colab_type": "text",
    "id": "2XURLuEFqdG1"
   },
   "source": [
    "## Referências\n",
    "\n",
    "* [Probability Theory Review for Machine Learning](https://see.stanford.edu/materials/aimlcs229/cs229-prob.pdf)\n",
    "\n",
    "* [Understanding Probability Distributions](https://statisticsbyjim.com/basics/probability-distributions/)\n",
    "\n",
    "* [Probability Distribution](https://en.wikipedia.org/wiki/Probability_distribution)\n",
    "\n",
    "* [Statistical Modeling: The Two Cultures](http://www2.math.uu.se/~thulin/mm/breiman.pdf)\n",
    "\n",
    "* [Variáveis Aleatórias Unidimensionais](http://www.professores.uff.br/anafarias/wp-content/uploads/sites/32/2017/08/GET00182-DistNomal.pdf)"
   ]
  }
 ],
 "metadata": {
  "colab": {
   "collapsed_sections": [],
   "name": "Aula 4 - Distribuições de probabilidade.ipynb",
   "provenance": [],
   "version": "0.3.2"
  },
  "kernelspec": {
   "display_name": "Python 3",
   "language": "python",
   "name": "python3"
  },
  "language_info": {
   "codemirror_mode": {
    "name": "ipython",
    "version": 3
   },
   "file_extension": ".py",
   "mimetype": "text/x-python",
   "name": "python",
   "nbconvert_exporter": "python",
   "pygments_lexer": "ipython3",
   "version": "3.7.7"
  }
 },
 "nbformat": 4,
 "nbformat_minor": 1
}
