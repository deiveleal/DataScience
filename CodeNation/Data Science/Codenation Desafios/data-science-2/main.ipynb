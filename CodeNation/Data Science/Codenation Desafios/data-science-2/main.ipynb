{
 "cells": [
  {
   "cell_type": "markdown",
   "metadata": {},
   "source": [
    "# Desafio 4\n",
    "\n",
    "Neste desafio, vamos praticar um pouco sobre testes de hipóteses. Utilizaremos o _data set_ [2016 Olympics in Rio de Janeiro](https://www.kaggle.com/rio2016/olympic-games/), que contém dados sobre os atletas das Olimpíadas de 2016 no Rio de Janeiro.\n",
    "\n",
    "Esse _data set_ conta com informações gerais sobre 11538 atletas como nome, nacionalidade, altura, peso e esporte praticado. Estaremos especialmente interessados nas variáveis numéricas altura (`height`) e peso (`weight`). As análises feitas aqui são parte de uma Análise Exploratória de Dados (EDA).\n",
    "\n",
    "> Obs.: Por favor, não modifique o nome das funções de resposta."
   ]
  },
  {
   "cell_type": "markdown",
   "metadata": {},
   "source": [
    "## _Setup_ geral"
   ]
  },
  {
   "cell_type": "code",
   "execution_count": 106,
   "metadata": {},
   "outputs": [],
   "source": [
    "import pandas as pd\n",
    "import matplotlib.pyplot as plt\n",
    "import numpy as np\n",
    "import scipy.stats as sct\n",
    "import seaborn as sns\n",
    "import statsmodels.api as sm"
   ]
  },
  {
   "cell_type": "code",
   "execution_count": 107,
   "metadata": {},
   "outputs": [],
   "source": [
    "#%matplotlib inline\n",
    "\n",
    "from IPython.core.pylabtools import figsize\n",
    "\n",
    "\n",
    "figsize(12, 8)\n",
    "\n",
    "sns.set()"
   ]
  },
  {
   "cell_type": "code",
   "execution_count": 108,
   "metadata": {},
   "outputs": [],
   "source": [
    "athletes = pd.read_csv(\"athletes.csv\")"
   ]
  },
  {
   "cell_type": "code",
   "execution_count": 109,
   "metadata": {},
   "outputs": [],
   "source": [
    "def get_sample(df, col_name, n=100, seed=42):\n",
    "    \"\"\"Get a sample from a column of a dataframe.\n",
    "    \n",
    "    It drops any numpy.nan entries before sampling. The sampling\n",
    "    is performed without replacement.\n",
    "    \n",
    "    Example of numpydoc for those who haven't seen yet.\n",
    "    \n",
    "    Parameters\n",
    "    ----------\n",
    "    df : pandas.DataFrame\n",
    "        Source dataframe.\n",
    "    col_name : str\n",
    "        Name of the column to be sampled.\n",
    "    n : int\n",
    "        Sample size. Default is 100.\n",
    "    seed : int\n",
    "        Random seed. Default is 42.\n",
    "    \n",
    "    Returns\n",
    "    -------\n",
    "    pandas.Series\n",
    "        Sample of size n from dataframe's column.\n",
    "    \"\"\"\n",
    "    np.random.seed(seed)\n",
    "    \n",
    "    random_idx = np.random.choice(df[col_name].dropna().index, size=n, replace=False)\n",
    "    \n",
    "    return df.loc[random_idx, col_name]"
   ]
  },
  {
   "cell_type": "markdown",
   "metadata": {},
   "source": [
    "## Inicia sua análise a partir daqui"
   ]
  },
  {
   "cell_type": "code",
   "execution_count": 110,
   "metadata": {},
   "outputs": [
    {
     "data": {
      "text/html": [
       "<div>\n",
       "<style scoped>\n",
       "    .dataframe tbody tr th:only-of-type {\n",
       "        vertical-align: middle;\n",
       "    }\n",
       "\n",
       "    .dataframe tbody tr th {\n",
       "        vertical-align: top;\n",
       "    }\n",
       "\n",
       "    .dataframe thead th {\n",
       "        text-align: right;\n",
       "    }\n",
       "</style>\n",
       "<table border=\"1\" class=\"dataframe\">\n",
       "  <thead>\n",
       "    <tr style=\"text-align: right;\">\n",
       "      <th></th>\n",
       "      <th>id</th>\n",
       "      <th>name</th>\n",
       "      <th>nationality</th>\n",
       "      <th>sex</th>\n",
       "      <th>dob</th>\n",
       "      <th>height</th>\n",
       "      <th>weight</th>\n",
       "      <th>sport</th>\n",
       "      <th>gold</th>\n",
       "      <th>silver</th>\n",
       "      <th>bronze</th>\n",
       "    </tr>\n",
       "  </thead>\n",
       "  <tbody>\n",
       "    <tr>\n",
       "      <th>0</th>\n",
       "      <td>736041664</td>\n",
       "      <td>A Jesus Garcia</td>\n",
       "      <td>ESP</td>\n",
       "      <td>male</td>\n",
       "      <td>10/17/69</td>\n",
       "      <td>1.72</td>\n",
       "      <td>64.0</td>\n",
       "      <td>athletics</td>\n",
       "      <td>0</td>\n",
       "      <td>0</td>\n",
       "      <td>0</td>\n",
       "    </tr>\n",
       "    <tr>\n",
       "      <th>1</th>\n",
       "      <td>532037425</td>\n",
       "      <td>A Lam Shin</td>\n",
       "      <td>KOR</td>\n",
       "      <td>female</td>\n",
       "      <td>9/23/86</td>\n",
       "      <td>1.68</td>\n",
       "      <td>56.0</td>\n",
       "      <td>fencing</td>\n",
       "      <td>0</td>\n",
       "      <td>0</td>\n",
       "      <td>0</td>\n",
       "    </tr>\n",
       "    <tr>\n",
       "      <th>2</th>\n",
       "      <td>435962603</td>\n",
       "      <td>Aaron Brown</td>\n",
       "      <td>CAN</td>\n",
       "      <td>male</td>\n",
       "      <td>5/27/92</td>\n",
       "      <td>1.98</td>\n",
       "      <td>79.0</td>\n",
       "      <td>athletics</td>\n",
       "      <td>0</td>\n",
       "      <td>0</td>\n",
       "      <td>1</td>\n",
       "    </tr>\n",
       "    <tr>\n",
       "      <th>3</th>\n",
       "      <td>521041435</td>\n",
       "      <td>Aaron Cook</td>\n",
       "      <td>MDA</td>\n",
       "      <td>male</td>\n",
       "      <td>1/2/91</td>\n",
       "      <td>1.83</td>\n",
       "      <td>80.0</td>\n",
       "      <td>taekwondo</td>\n",
       "      <td>0</td>\n",
       "      <td>0</td>\n",
       "      <td>0</td>\n",
       "    </tr>\n",
       "    <tr>\n",
       "      <th>4</th>\n",
       "      <td>33922579</td>\n",
       "      <td>Aaron Gate</td>\n",
       "      <td>NZL</td>\n",
       "      <td>male</td>\n",
       "      <td>11/26/90</td>\n",
       "      <td>1.81</td>\n",
       "      <td>71.0</td>\n",
       "      <td>cycling</td>\n",
       "      <td>0</td>\n",
       "      <td>0</td>\n",
       "      <td>0</td>\n",
       "    </tr>\n",
       "    <tr>\n",
       "      <th>5</th>\n",
       "      <td>173071782</td>\n",
       "      <td>Aaron Royle</td>\n",
       "      <td>AUS</td>\n",
       "      <td>male</td>\n",
       "      <td>1/26/90</td>\n",
       "      <td>1.80</td>\n",
       "      <td>67.0</td>\n",
       "      <td>triathlon</td>\n",
       "      <td>0</td>\n",
       "      <td>0</td>\n",
       "      <td>0</td>\n",
       "    </tr>\n",
       "    <tr>\n",
       "      <th>6</th>\n",
       "      <td>266237702</td>\n",
       "      <td>Aaron Russell</td>\n",
       "      <td>USA</td>\n",
       "      <td>male</td>\n",
       "      <td>6/4/93</td>\n",
       "      <td>2.05</td>\n",
       "      <td>98.0</td>\n",
       "      <td>volleyball</td>\n",
       "      <td>0</td>\n",
       "      <td>0</td>\n",
       "      <td>1</td>\n",
       "    </tr>\n",
       "  </tbody>\n",
       "</table>\n",
       "</div>"
      ],
      "text/plain": [
       "          id            name nationality     sex       dob  height  weight  \\\n",
       "0  736041664  A Jesus Garcia         ESP    male  10/17/69    1.72    64.0   \n",
       "1  532037425      A Lam Shin         KOR  female   9/23/86    1.68    56.0   \n",
       "2  435962603     Aaron Brown         CAN    male   5/27/92    1.98    79.0   \n",
       "3  521041435      Aaron Cook         MDA    male    1/2/91    1.83    80.0   \n",
       "4   33922579      Aaron Gate         NZL    male  11/26/90    1.81    71.0   \n",
       "5  173071782     Aaron Royle         AUS    male   1/26/90    1.80    67.0   \n",
       "6  266237702   Aaron Russell         USA    male    6/4/93    2.05    98.0   \n",
       "\n",
       "        sport  gold  silver  bronze  \n",
       "0   athletics     0       0       0  \n",
       "1     fencing     0       0       0  \n",
       "2   athletics     0       0       1  \n",
       "3   taekwondo     0       0       0  \n",
       "4     cycling     0       0       0  \n",
       "5   triathlon     0       0       0  \n",
       "6  volleyball     0       0       1  "
      ]
     },
     "execution_count": 110,
     "metadata": {},
     "output_type": "execute_result"
    }
   ],
   "source": [
    "athletes.head(7)"
   ]
  },
  {
   "cell_type": "code",
   "execution_count": 111,
   "metadata": {},
   "outputs": [
    {
     "data": {
      "text/html": [
       "<div>\n",
       "<style scoped>\n",
       "    .dataframe tbody tr th:only-of-type {\n",
       "        vertical-align: middle;\n",
       "    }\n",
       "\n",
       "    .dataframe tbody tr th {\n",
       "        vertical-align: top;\n",
       "    }\n",
       "\n",
       "    .dataframe thead th {\n",
       "        text-align: right;\n",
       "    }\n",
       "</style>\n",
       "<table border=\"1\" class=\"dataframe\">\n",
       "  <thead>\n",
       "    <tr style=\"text-align: right;\">\n",
       "      <th></th>\n",
       "      <th>id</th>\n",
       "      <th>height</th>\n",
       "      <th>weight</th>\n",
       "      <th>gold</th>\n",
       "      <th>silver</th>\n",
       "      <th>bronze</th>\n",
       "    </tr>\n",
       "  </thead>\n",
       "  <tbody>\n",
       "    <tr>\n",
       "      <th>count</th>\n",
       "      <td>1.153800e+04</td>\n",
       "      <td>11208.000000</td>\n",
       "      <td>10879.000000</td>\n",
       "      <td>11538.000000</td>\n",
       "      <td>11538.000000</td>\n",
       "      <td>11538.000000</td>\n",
       "    </tr>\n",
       "    <tr>\n",
       "      <th>mean</th>\n",
       "      <td>4.999885e+08</td>\n",
       "      <td>1.766282</td>\n",
       "      <td>72.068205</td>\n",
       "      <td>0.057722</td>\n",
       "      <td>0.056769</td>\n",
       "      <td>0.061016</td>\n",
       "    </tr>\n",
       "    <tr>\n",
       "      <th>std</th>\n",
       "      <td>2.908648e+08</td>\n",
       "      <td>0.112719</td>\n",
       "      <td>16.177334</td>\n",
       "      <td>0.255910</td>\n",
       "      <td>0.239147</td>\n",
       "      <td>0.243320</td>\n",
       "    </tr>\n",
       "    <tr>\n",
       "      <th>min</th>\n",
       "      <td>1.834700e+04</td>\n",
       "      <td>1.210000</td>\n",
       "      <td>31.000000</td>\n",
       "      <td>0.000000</td>\n",
       "      <td>0.000000</td>\n",
       "      <td>0.000000</td>\n",
       "    </tr>\n",
       "    <tr>\n",
       "      <th>25%</th>\n",
       "      <td>2.450997e+08</td>\n",
       "      <td>1.690000</td>\n",
       "      <td>60.000000</td>\n",
       "      <td>0.000000</td>\n",
       "      <td>0.000000</td>\n",
       "      <td>0.000000</td>\n",
       "    </tr>\n",
       "    <tr>\n",
       "      <th>50%</th>\n",
       "      <td>5.002011e+08</td>\n",
       "      <td>1.760000</td>\n",
       "      <td>70.000000</td>\n",
       "      <td>0.000000</td>\n",
       "      <td>0.000000</td>\n",
       "      <td>0.000000</td>\n",
       "    </tr>\n",
       "    <tr>\n",
       "      <th>75%</th>\n",
       "      <td>7.539874e+08</td>\n",
       "      <td>1.840000</td>\n",
       "      <td>81.000000</td>\n",
       "      <td>0.000000</td>\n",
       "      <td>0.000000</td>\n",
       "      <td>0.000000</td>\n",
       "    </tr>\n",
       "    <tr>\n",
       "      <th>max</th>\n",
       "      <td>9.999878e+08</td>\n",
       "      <td>2.210000</td>\n",
       "      <td>170.000000</td>\n",
       "      <td>5.000000</td>\n",
       "      <td>2.000000</td>\n",
       "      <td>2.000000</td>\n",
       "    </tr>\n",
       "  </tbody>\n",
       "</table>\n",
       "</div>"
      ],
      "text/plain": [
       "                 id        height        weight          gold        silver  \\\n",
       "count  1.153800e+04  11208.000000  10879.000000  11538.000000  11538.000000   \n",
       "mean   4.999885e+08      1.766282     72.068205      0.057722      0.056769   \n",
       "std    2.908648e+08      0.112719     16.177334      0.255910      0.239147   \n",
       "min    1.834700e+04      1.210000     31.000000      0.000000      0.000000   \n",
       "25%    2.450997e+08      1.690000     60.000000      0.000000      0.000000   \n",
       "50%    5.002011e+08      1.760000     70.000000      0.000000      0.000000   \n",
       "75%    7.539874e+08      1.840000     81.000000      0.000000      0.000000   \n",
       "max    9.999878e+08      2.210000    170.000000      5.000000      2.000000   \n",
       "\n",
       "             bronze  \n",
       "count  11538.000000  \n",
       "mean       0.061016  \n",
       "std        0.243320  \n",
       "min        0.000000  \n",
       "25%        0.000000  \n",
       "50%        0.000000  \n",
       "75%        0.000000  \n",
       "max        2.000000  "
      ]
     },
     "execution_count": 111,
     "metadata": {},
     "output_type": "execute_result"
    }
   ],
   "source": [
    "athletes.describe()"
   ]
  },
  {
   "cell_type": "code",
   "execution_count": 112,
   "metadata": {},
   "outputs": [],
   "source": [
    "sample_athlet_height = get_sample(athletes, 'height', 3000)"
   ]
  },
  {
   "cell_type": "code",
   "execution_count": 113,
   "metadata": {},
   "outputs": [],
   "source": [
    "sample_athlet_weight = get_sample(athletes, 'weight', 3000)"
   ]
  },
  {
   "cell_type": "code",
   "execution_count": 128,
   "metadata": {},
   "outputs": [
    {
     "name": "stdout",
     "output_type": "stream",
     "text": [
      "              id                        name nationality     sex       dob  \\\n",
      "79     236523132                   Adam Imer         BRA    male   8/18/89   \n",
      "106    993710181           Adenizia da Silva         BRA  female  12/18/86   \n",
      "109    930618704            Adilson da Silva         BRA    male   1/24/72   \n",
      "114    787208883               Adrian Baches         BRA    male    4/7/90   \n",
      "128     80367651  Adriana Aparecida da Silva         BRA  female   7/22/81   \n",
      "...          ...                         ...         ...     ...       ...   \n",
      "11052    9403852           Xavier Vela Maggi         BRA    male    8/7/89   \n",
      "11136  599927932         Yane Marcia Marques         BRA  female    1/7/84   \n",
      "11228  586074732     Ygor Coelho de Oliveira         BRA    male  11/24/96   \n",
      "11404  409923311        Yuri van der Heijden         BRA    male   7/20/90   \n",
      "11457  879954351                        Zeca         BRA    male   5/16/94   \n",
      "\n",
      "       height  weight              sport  gold  silver  bronze  \n",
      "79       1.82    88.0             hockey     0       0       0  \n",
      "106      1.87    65.0         volleyball     0       0       0  \n",
      "109      1.70    79.0               golf     0       0       0  \n",
      "114      1.84    83.0           aquatics     0       0       0  \n",
      "128      1.66    52.0          athletics     0       0       0  \n",
      "...       ...     ...                ...   ...     ...     ...  \n",
      "11052    1.78    71.0             rowing     0       0       0  \n",
      "11136    1.66    55.0  modern pentathlon     0       0       0  \n",
      "11228    1.83    78.0          badminton     0       0       0  \n",
      "11404    1.78    76.0             hockey     0       0       0  \n",
      "11457    1.70    69.0           football     1       0       0  \n",
      "\n",
      "[485 rows x 11 columns]\n"
     ]
    }
   ],
   "source": [
    "bra = athletes[athletes['nationality'] == 'BRA']\n",
    "print(bra)"
   ]
  },
  {
   "cell_type": "code",
   "execution_count": 129,
   "metadata": {},
   "outputs": [
    {
     "data": {
      "text/plain": [
       "id              0\n",
       "name            0\n",
       "nationality     0\n",
       "sex             0\n",
       "dob             0\n",
       "height          9\n",
       "weight         19\n",
       "sport           0\n",
       "gold            0\n",
       "silver          0\n",
       "bronze          0\n",
       "dtype: int64"
      ]
     },
     "execution_count": 129,
     "metadata": {},
     "output_type": "execute_result"
    }
   ],
   "source": [
    "bra.isna().sum()"
   ]
  },
  {
   "cell_type": "code",
   "execution_count": 130,
   "metadata": {},
   "outputs": [
    {
     "name": "stdout",
     "output_type": "stream",
     "text": [
      "              id                name nationality     sex       dob  height  \\\n",
      "2      435962603         Aaron Brown         CAN    male   5/27/92    1.98   \n",
      "77     136977152         Adam Froese         CAN    male   8/13/91    1.82   \n",
      "92     983411298  Adam van Koeverden         CAN    male   1/29/82    1.82   \n",
      "238    769580282        Akeem Haynes         CAN    male   3/11/92    1.68   \n",
      "332     84230211         Alena Sharp         CAN  female    3/7/81    1.68   \n",
      "...          ...                 ...         ...     ...       ...     ...   \n",
      "10871  646986835    Vincent Riendeau         CAN    male  12/13/96    1.78   \n",
      "11002  202043393       Will Crothers         CAN    male   6/14/87    1.95   \n",
      "11003  212657714           Will Dean         CAN    male   6/10/87    1.95   \n",
      "11156  982324748        Yann Candele         CAN    male   3/11/71    1.73   \n",
      "11401  708404577          Yuri Kisil         CAN    male   9/18/95    2.00   \n",
      "\n",
      "       weight       sport  gold  silver  bronze  \n",
      "2        79.0   athletics     0       0       1  \n",
      "77       81.0      hockey     0       0       0  \n",
      "92       85.0       canoe     0       0       0  \n",
      "238      71.0   athletics     0       0       1  \n",
      "332      69.0        golf     0       0       0  \n",
      "...       ...         ...   ...     ...     ...  \n",
      "10871    68.0    aquatics     0       0       0  \n",
      "11002    95.0      rowing     0       0       0  \n",
      "11003    95.0      rowing     0       0       0  \n",
      "11156    82.0  equestrian     0       0       0  \n",
      "11401    84.0    aquatics     0       0       0  \n",
      "\n",
      "[321 rows x 11 columns]\n"
     ]
    }
   ],
   "source": [
    "can = athletes[athletes['nationality'] == 'CAN']\n",
    "print(can)"
   ]
  },
  {
   "cell_type": "code",
   "execution_count": 131,
   "metadata": {},
   "outputs": [
    {
     "data": {
      "text/plain": [
       "id             0\n",
       "name           0\n",
       "nationality    0\n",
       "sex            0\n",
       "dob            0\n",
       "height         1\n",
       "weight         4\n",
       "sport          0\n",
       "gold           0\n",
       "silver         0\n",
       "bronze         0\n",
       "dtype: int64"
      ]
     },
     "execution_count": 131,
     "metadata": {},
     "output_type": "execute_result"
    }
   ],
   "source": [
    "can.isna().sum()"
   ]
  },
  {
   "cell_type": "code",
   "execution_count": 132,
   "metadata": {},
   "outputs": [
    {
     "name": "stdout",
     "output_type": "stream",
     "text": [
      "              id                name nationality     sex       dob  height  \\\n",
      "6      266237702       Aaron Russell         USA    male    6/4/93    2.05   \n",
      "13     376068084    Abbey D'Agostino         USA  female   5/25/92    1.61   \n",
      "14     162792594      Abbey Weitzeil         USA  female   12/3/96    1.78   \n",
      "64     884912136    Abigail Johnston         USA  female  11/16/89    1.66   \n",
      "104    259002430  Adeline Maria Gray         USA  female   1/15/91    1.73   \n",
      "...          ...                 ...         ...     ...       ...     ...   \n",
      "11242  567715213          Yijun Feng         USA    male   2/12/97    1.86   \n",
      "11339  920857282              Yue Wu         USA  female    1/4/90    1.61   \n",
      "11436  306067063        Zach Garrett         USA    male    4/8/95    1.78   \n",
      "11437  995684067         Zach Ziemek         USA    male   2/23/93    1.94   \n",
      "11439   99932834           Zack Test         USA    male  10/13/89    1.91   \n",
      "\n",
      "       weight         sport  gold  silver  bronze  \n",
      "6        98.0    volleyball     0       0       1  \n",
      "13       49.0     athletics     0       0       0  \n",
      "14       68.0      aquatics     1       1       0  \n",
      "64       61.0      aquatics     0       0       0  \n",
      "104      77.0     wrestling     0       0       0  \n",
      "...       ...           ...   ...     ...     ...  \n",
      "11242    71.0  table tennis     0       0       0  \n",
      "11339    50.0  table tennis     0       0       0  \n",
      "11436    63.0       archery     0       1       0  \n",
      "11437    88.0     athletics     0       0       0  \n",
      "11439    92.0  rugby sevens     0       0       0  \n",
      "\n",
      "[567 rows x 11 columns]\n"
     ]
    }
   ],
   "source": [
    "usa = athletes[athletes['nationality'] == 'USA']\n",
    "print(usa)"
   ]
  },
  {
   "cell_type": "code",
   "execution_count": 133,
   "metadata": {},
   "outputs": [
    {
     "data": {
      "text/plain": [
       "id              0\n",
       "name            0\n",
       "nationality     0\n",
       "sex             0\n",
       "dob             0\n",
       "height          7\n",
       "weight         15\n",
       "sport           0\n",
       "gold            0\n",
       "silver          0\n",
       "bronze          0\n",
       "dtype: int64"
      ]
     },
     "execution_count": 133,
     "metadata": {},
     "output_type": "execute_result"
    }
   ],
   "source": [
    "usa.isna().sum()"
   ]
  },
  {
   "cell_type": "code",
   "execution_count": 76,
   "metadata": {},
   "outputs": [
    {
     "data": {
      "text/plain": [
       "<matplotlib.axes._subplots.AxesSubplot at 0x7ff13d36cad0>"
      ]
     },
     "execution_count": 76,
     "metadata": {},
     "output_type": "execute_result"
    },
    {
     "data": {
      "image/png": "[encoded data removed]",
      "text/plain": [
       "<Figure size 864x576 with 1 Axes>"
      ]
     },
     "metadata": {},
     "output_type": "display_data"
    }
   ],
   "source": [
    "sns.distplot(sample_athlet_height)"
   ]
  },
  {
   "cell_type": "code",
   "execution_count": 77,
   "metadata": {},
   "outputs": [
    {
     "data": {
      "text/plain": [
       "(0.9961519837379456, 5.681722541339695e-07)"
      ]
     },
     "execution_count": 77,
     "metadata": {},
     "output_type": "execute_result"
    }
   ],
   "source": [
    "sct.shapiro(sample_athlet_height)"
   ]
  },
  {
   "cell_type": "code",
   "execution_count": 78,
   "metadata": {},
   "outputs": [
    {
     "data": {
      "text/plain": [
       "(13.03363513594265, 0.001478366424594868)"
      ]
     },
     "execution_count": 78,
     "metadata": {},
     "output_type": "execute_result"
    }
   ],
   "source": [
    "sct.jarque_bera(sample_athlet_height)"
   ]
  },
  {
   "cell_type": "code",
   "execution_count": 79,
   "metadata": {},
   "outputs": [
    {
     "data": {
      "text/plain": [
       "NormaltestResult(statistic=510.24655809881176, pvalue=1.5898922918029537e-111)"
      ]
     },
     "execution_count": 79,
     "metadata": {},
     "output_type": "execute_result"
    }
   ],
   "source": [
    "sct.normaltest(sample_athlet_weight)"
   ]
  },
  {
   "cell_type": "code",
   "execution_count": 80,
   "metadata": {},
   "outputs": [
    {
     "data": {
      "text/plain": [
       "NormaltestResult(statistic=45.91534331977353, pvalue=1.0705572101256944e-10)"
      ]
     },
     "execution_count": 80,
     "metadata": {},
     "output_type": "execute_result"
    }
   ],
   "source": [
    "sample_athlet_weight_log = np.log(sample_athlet_weight)\n",
    "sct.normaltest(sample_athlet_weight_log)"
   ]
  },
  {
   "cell_type": "code",
   "execution_count": 123,
   "metadata": {},
   "outputs": [
    {
     "data": {
      "text/plain": [
       "0.00046603"
      ]
     },
     "execution_count": 123,
     "metadata": {},
     "output_type": "execute_result"
    }
   ],
   "source": [
    "sct.ttest_ind(can['height'],usa['height'], equal_var=False)[1].round(8)"
   ]
  },
  {
   "cell_type": "markdown",
   "metadata": {},
   "source": [
    "## Questão 1\n",
    "\n",
    "Considerando uma amostra de tamanho 3000 da coluna `height` obtida com a função `get_sample()`, execute o teste de normalidade de Shapiro-Wilk com a função `scipy.stats.shapiro()`. Podemos afirmar que as alturas são normalmente distribuídas com base nesse teste (ao nível de significância de 5%)? Responda com um boolean (`True` ou `False`)."
   ]
  },
  {
   "cell_type": "code",
   "execution_count": 20,
   "metadata": {},
   "outputs": [],
   "source": [
    "def q1():\n",
    "    shapiro_p = sct.shapiro(sample_athlet_height)[1]\n",
    "    if shapiro_p > 0.05:\n",
    "        boolean_resp = True\n",
    "    else:\n",
    "        boolean_resp = False\n",
    "    return boolean_resp"
   ]
  },
  {
   "cell_type": "code",
   "execution_count": 65,
   "metadata": {},
   "outputs": [
    {
     "data": {
      "text/plain": [
       "<matplotlib.axes._subplots.AxesSubplot at 0x7ff9e0b35390>"
      ]
     },
     "execution_count": 65,
     "metadata": {},
     "output_type": "execute_result"
    },
    {
     "data": {
      "image/png": "[encoded data removed]",
      "text/plain": [
       "<Figure size 864x576 with 1 Axes>"
      ]
     },
     "metadata": {},
     "output_type": "display_data"
    }
   ],
   "source": [
    "sns.distplot(sample_athlet_height, bins=25)"
   ]
  },
  {
   "cell_type": "code",
   "execution_count": 68,
   "metadata": {},
   "outputs": [
    {
     "data": {
      "image/png": "[encoded data removed]",
      "text/plain": [
       "<Figure size 864x576 with 1 Axes>"
      ]
     },
     "execution_count": 68,
     "metadata": {},
     "output_type": "execute_result"
    },
    {
     "data": {
      "image/png": "[encoded data removed]",
      "text/plain": [
       "<Figure size 864x576 with 1 Axes>"
      ]
     },
     "metadata": {},
     "output_type": "display_data"
    }
   ],
   "source": [
    "sm.qqplot(sample_athlet_height, fit = True, line = \"45\")"
   ]
  },
  {
   "cell_type": "markdown",
   "metadata": {},
   "source": [
    "__Para refletir__:\n",
    "\n",
    "* Plote o histograma dessa variável (com, por exemplo, `bins=25`). A forma do gráfico e o resultado do teste são condizentes? Por que?\n",
    "* Plote o qq-plot para essa variável e a analise.\n",
    "* Existe algum nível de significância razoável que nos dê outro resultado no teste? (Não faça isso na prática. Isso é chamado _p-value hacking_, e não é legal)."
   ]
  },
  {
   "cell_type": "markdown",
   "metadata": {},
   "source": [
    "## Questão 2\n",
    "\n",
    "Repita o mesmo procedimento acima, mas agora utilizando o teste de normalidade de Jarque-Bera através da função `scipy.stats.jarque_bera()`. Agora podemos afirmar que as alturas são normalmente distribuídas (ao nível de significância de 5%)? Responda com um boolean (`True` ou `False`)."
   ]
  },
  {
   "cell_type": "code",
   "execution_count": 25,
   "metadata": {},
   "outputs": [],
   "source": [
    "def q2():\n",
    "    jarque_bera_p = sct.jarque_bera(sample_athlet_height)[1]\n",
    "    if jarque_bera_p > 0.05:\n",
    "        boolean_resp = True\n",
    "    else:\n",
    "        boolean_resp = False\n",
    "    return boolean_resp"
   ]
  },
  {
   "cell_type": "markdown",
   "metadata": {},
   "source": [
    "__Para refletir__:\n",
    "\n",
    "* Esse resultado faz sentido?"
   ]
  },
  {
   "cell_type": "markdown",
   "metadata": {},
   "source": [
    "## Questão 3\n",
    "\n",
    "Considerando agora uma amostra de tamanho 3000 da coluna `weight` obtida com a função `get_sample()`. Faça o teste de normalidade de D'Agostino-Pearson utilizando a função `scipy.stats.normaltest()`. Podemos afirmar que os pesos vêm de uma distribuição normal ao nível de significância de 5%? Responda com um boolean (`True` ou `False`)."
   ]
  },
  {
   "cell_type": "code",
   "execution_count": 45,
   "metadata": {},
   "outputs": [],
   "source": [
    "def q3():\n",
    "    normal_test_p = sct.normaltest(sample_athlet_weight)[1]\n",
    "    if normal_test_p > 0.05:\n",
    "        boolean_resp = True\n",
    "    else:\n",
    "        boolean_resp = False\n",
    "    return boolean_resp"
   ]
  },
  {
   "cell_type": "markdown",
   "metadata": {},
   "source": [
    "__Para refletir__:\n",
    "\n",
    "* Plote o histograma dessa variável (com, por exemplo, `bins=25`). A forma do gráfico e o resultado do teste são condizentes? Por que?\n",
    "* Um _box plot_ também poderia ajudar a entender a resposta."
   ]
  },
  {
   "cell_type": "markdown",
   "metadata": {},
   "source": [
    "## Questão 4\n",
    "\n",
    "Realize uma transformação logarítmica em na amostra de `weight` da questão 3 e repita o mesmo procedimento. Podemos afirmar a normalidade da variável transformada ao nível de significância de 5%? Responda com um boolean (`True` ou `False`)."
   ]
  },
  {
   "cell_type": "code",
   "execution_count": 54,
   "metadata": {},
   "outputs": [],
   "source": [
    "def q4():\n",
    "    sample_athlet_weight_log = np.log(sample_athlet_weight)\n",
    "    normal_test_p = sct.normaltest(sample_athlet_weight_log)[1]\n",
    "    if normal_test_p > 0.05:\n",
    "        boolean_resp = True\n",
    "    else:\n",
    "        boolean_resp = False\n",
    "    return boolean_resp"
   ]
  },
  {
   "cell_type": "markdown",
   "metadata": {},
   "source": [
    "__Para refletir__:\n",
    "\n",
    "* Plote o histograma dessa variável (com, por exemplo, `bins=25`). A forma do gráfico e o resultado do teste são condizentes? Por que?\n",
    "* Você esperava um resultado diferente agora?"
   ]
  },
  {
   "cell_type": "markdown",
   "metadata": {},
   "source": [
    "> __Para as questão 5 6 e 7 a seguir considere todos testes efetuados ao nível de significância de 5%__."
   ]
  },
  {
   "cell_type": "markdown",
   "metadata": {},
   "source": [
    "## Questão 5\n",
    "\n",
    "Obtenha todos atletas brasileiros, norte-americanos e canadenses em `DataFrame`s chamados `bra`, `usa` e `can`,respectivamente. Realize um teste de hipóteses para comparação das médias das alturas (`height`) para amostras independentes e variâncias diferentes com a função `scipy.stats.ttest_ind()` entre `bra` e `usa`. Podemos afirmar que as médias são estatisticamente iguais? Responda com um boolean (`True` ou `False`)."
   ]
  },
  {
   "cell_type": "code",
   "execution_count": 152,
   "metadata": {},
   "outputs": [
    {
     "name": "stdout",
     "output_type": "stream",
     "text": [
      "Ttest_indResult(statistic=-3.2232436467501855, pvalue=0.0013080041830140115)\n"
     ]
    },
    {
     "data": {
      "text/plain": [
       "False"
      ]
     },
     "execution_count": 152,
     "metadata": {},
     "output_type": "execute_result"
    }
   ],
   "source": [
    "def q5():\n",
    "    ttest_p = sct.ttest_ind(bra['height'],usa['height'], equal_var=False, nan_policy='omit')[1]\n",
    "    print(sct.ttest_ind(bra['height'],usa['height'], equal_var=False, nan_policy='omit'))\n",
    "    if ttest_p > 0.05:\n",
    "        boolean_resp = True\n",
    "    else:\n",
    "        boolean_resp = False\n",
    "    return boolean_resp\n",
    "q5()"
   ]
  },
  {
   "cell_type": "markdown",
   "metadata": {},
   "source": [
    "## Questão 6\n",
    "\n",
    "Repita o procedimento da questão 5, mas agora entre as alturas de `bra` e `can`. Podemos afimar agora que as médias são estatisticamente iguais? Reponda com um boolean (`True` ou `False`)."
   ]
  },
  {
   "cell_type": "code",
   "execution_count": 150,
   "metadata": {},
   "outputs": [
    {
     "name": "stdout",
     "output_type": "stream",
     "text": [
      "Ttest_indResult(statistic=0.6396212192621117, pvalue=0.5226033826111448)\n"
     ]
    },
    {
     "data": {
      "text/plain": [
       "True"
      ]
     },
     "execution_count": 150,
     "metadata": {},
     "output_type": "execute_result"
    }
   ],
   "source": [
    "def q6():\n",
    "    ttest_p = sct.ttest_ind(bra.height,can.height, nan_policy='omit')[1]\n",
    "    print(sct.ttest_ind(bra.height,can.height, nan_policy='omit'))\n",
    "    if ttest_p > 0.05:\n",
    "        boolean_resp = True\n",
    "    else:\n",
    "        boolean_resp = False\n",
    "    return boolean_resp\n",
    "q6()"
   ]
  },
  {
   "cell_type": "markdown",
   "metadata": {},
   "source": [
    "## Questão 7\n",
    "\n",
    "Repita o procedimento da questão 6, mas agora entre as alturas de `usa` e `can`. Qual o valor do p-valor retornado? Responda como um único escalar arredondado para oito casas decimais."
   ]
  },
  {
   "cell_type": "code",
   "execution_count": 145,
   "metadata": {},
   "outputs": [
    {
     "name": "stdout",
     "output_type": "stream",
     "text": [
      "stat: -3.516987632488539\n",
      "p_value: 0.0004660129347389851\n"
     ]
    },
    {
     "data": {
      "text/plain": [
       "0.00046601"
      ]
     },
     "execution_count": 145,
     "metadata": {},
     "output_type": "execute_result"
    }
   ],
   "source": [
    "def q7():\n",
    "    athletes = pd.read_csv(\"athletes.csv\")\n",
    "    usa = athletes[athletes['nationality'] == 'USA']\n",
    "    can = athletes[athletes['nationality'] == 'CAN']\n",
    "    stat, p_value = sct.ttest_ind(can.height,usa.height, equal_var=False, nan_policy='omit')\n",
    "    print('stat: ' + str(stat))\n",
    "    print('p_value: ' + str(p_value))\n",
    "    return round(p_value,8)\n",
    "q7()"
   ]
  },
  {
   "cell_type": "markdown",
   "metadata": {},
   "source": [
    "__Para refletir__:\n",
    "\n",
    "* O resultado faz sentido?\n",
    "* Você consegue interpretar esse p-valor?\n",
    "* Você consegue chegar a esse valor de p-valor a partir da variável de estatística?"
   ]
  },
  {
   "cell_type": "code",
   "execution_count": null,
   "metadata": {},
   "outputs": [],
   "source": []
  }
 ],
 "metadata": {
  "kernelspec": {
   "display_name": "Python 3",
   "language": "python",
   "name": "python3"
  },
  "language_info": {
   "codemirror_mode": {
    "name": "ipython",
    "version": 3
   },
   "file_extension": ".py",
   "mimetype": "text/x-python",
   "name": "python",
   "nbconvert_exporter": "python",
   "pygments_lexer": "ipython3",
   "version": "3.7.7"
  }
 },
 "nbformat": 4,
 "nbformat_minor": 2
}
