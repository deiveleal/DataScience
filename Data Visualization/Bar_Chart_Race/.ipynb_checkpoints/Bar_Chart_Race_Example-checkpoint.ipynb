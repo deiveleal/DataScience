{
 "cells": [
  {
   "cell_type": "code",
   "execution_count": 6,
   "metadata": {},
   "outputs": [
    {
     "ename": "ModuleNotFoundError",
     "evalue": "No module named 'bar_chart_race'",
     "output_type": "error",
     "traceback": [
      "\u001b[0;31m---------------------------------------------------------------------------\u001b[0m",
      "\u001b[0;31mModuleNotFoundError\u001b[0m                       Traceback (most recent call last)",
      "\u001b[0;32m<ipython-input-6-abea971cfcfa>\u001b[0m in \u001b[0;36m<module>\u001b[0;34m\u001b[0m\n\u001b[1;32m      3\u001b[0m \u001b[0;32mimport\u001b[0m \u001b[0mseaborn\u001b[0m \u001b[0;32mas\u001b[0m \u001b[0msns\u001b[0m\u001b[0;34m\u001b[0m\u001b[0;34m\u001b[0m\u001b[0m\n\u001b[1;32m      4\u001b[0m \u001b[0;32mimport\u001b[0m \u001b[0mmatplotlib\u001b[0m\u001b[0;34m.\u001b[0m\u001b[0mpyplot\u001b[0m \u001b[0;32mas\u001b[0m \u001b[0mplt\u001b[0m\u001b[0;34m\u001b[0m\u001b[0;34m\u001b[0m\u001b[0m\n\u001b[0;32m----> 5\u001b[0;31m \u001b[0;32mimport\u001b[0m \u001b[0mbar_chart_race\u001b[0m \u001b[0;32mas\u001b[0m \u001b[0mbrc\u001b[0m\u001b[0;34m\u001b[0m\u001b[0;34m\u001b[0m\u001b[0m\n\u001b[0m\u001b[1;32m      6\u001b[0m \u001b[0;34m\u001b[0m\u001b[0m\n\u001b[1;32m      7\u001b[0m \u001b[0mget_ipython\u001b[0m\u001b[0;34m(\u001b[0m\u001b[0;34m)\u001b[0m\u001b[0;34m.\u001b[0m\u001b[0mrun_line_magic\u001b[0m\u001b[0;34m(\u001b[0m\u001b[0;34m'matplotlib'\u001b[0m\u001b[0;34m,\u001b[0m \u001b[0;34m'inline'\u001b[0m\u001b[0;34m)\u001b[0m\u001b[0;34m\u001b[0m\u001b[0;34m\u001b[0m\u001b[0m\n",
      "\u001b[0;31mModuleNotFoundError\u001b[0m: No module named 'bar_chart_race'"
     ]
    }
   ],
   "source": [
    "import pandas as pd\n",
    "import numpy as np\n",
    "import seaborn as sns\n",
    "import matplotlib.pyplot as plt\n",
    "import bar_chart_race as brc\n",
    "\n",
    "%matplotlib inline"
   ]
  },
  {
   "cell_type": "code",
   "execution_count": 3,
   "metadata": {},
   "outputs": [
    {
     "name": "stdout",
     "output_type": "stream",
     "text": [
      "Requirement already satisfied: bar_chart_race in /home/deive/3_8_ambient/lib/python3.8/site-packages (0.1.0)\n",
      "Requirement already satisfied: matplotlib>=3.1 in /home/deive/3_8_ambient/lib/python3.8/site-packages (from bar_chart_race) (3.2.1)\n",
      "Requirement already satisfied: pandas>=0.24 in /home/deive/3_8_ambient/lib/python3.8/site-packages (from bar_chart_race) (1.0.4)\n",
      "Requirement already satisfied: pyparsing!=2.0.4,!=2.1.2,!=2.1.6,>=2.0.1 in /home/deive/3_8_ambient/lib/python3.8/site-packages (from matplotlib>=3.1->bar_chart_race) (2.4.7)\n",
      "Requirement already satisfied: kiwisolver>=1.0.1 in /home/deive/3_8_ambient/lib/python3.8/site-packages (from matplotlib>=3.1->bar_chart_race) (1.2.0)\n",
      "Requirement already satisfied: cycler>=0.10 in /home/deive/3_8_ambient/lib/python3.8/site-packages (from matplotlib>=3.1->bar_chart_race) (0.10.0)\n",
      "Requirement already satisfied: python-dateutil>=2.1 in /home/deive/3_8_ambient/lib/python3.8/site-packages (from matplotlib>=3.1->bar_chart_race) (2.7.3)\n",
      "Requirement already satisfied: numpy>=1.11 in /home/deive/3_8_ambient/lib/python3.8/site-packages (from matplotlib>=3.1->bar_chart_race) (1.18.4)\n",
      "Requirement already satisfied: pytz>=2017.2 in /home/deive/3_8_ambient/lib/python3.8/site-packages (from pandas>=0.24->bar_chart_race) (2020.1)\n",
      "Requirement already satisfied: six in /home/deive/3_8_ambient/lib/python3.8/site-packages (from cycler>=0.10->matplotlib>=3.1->bar_chart_race) (1.15.0)\n"
     ]
    }
   ],
   "source": [
    "!pip install bar_chart_race"
   ]
  },
  {
   "cell_type": "code",
   "execution_count": null,
   "metadata": {},
   "outputs": [],
   "source": []
  }
 ],
 "metadata": {
  "kernelspec": {
   "display_name": "Python 3.8.0 64-bit",
   "language": "python",
   "name": "python38064bitb849c0a730e2448087969cf3b1200bda"
  },
  "language_info": {
   "codemirror_mode": {
    "name": "ipython",
    "version": 3
   },
   "file_extension": ".py",
   "mimetype": "text/x-python",
   "name": "python",
   "nbconvert_exporter": "python",
   "pygments_lexer": "ipython3",
   "version": "3.8.0"
  }
 },
 "nbformat": 4,
 "nbformat_minor": 4
}
